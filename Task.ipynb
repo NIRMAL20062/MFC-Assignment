{
 "cells": [
  {
   "cell_type": "markdown",
   "id": "da09dcc8",
   "metadata": {},
   "source": [
    "Q1. Write a code to find the degree of each Node, and store it in a dictionary. Sort the keys of the dictionary by the degree stored in the values."
   ]
  },
  {
   "cell_type": "code",
   "execution_count": 1,
   "id": "77af1590",
   "metadata": {},
   "outputs": [
    {
     "name": "stdout",
     "output_type": "stream",
     "text": [
      "Degree of each Node:  {'A': 2, 'B': 3, 'C': 2, 'D': 1}\n",
      "Nodes sorted by degree:  ['D', 'A', 'C', 'B']\n"
     ]
    }
   ],
   "source": [
    "def get_degree_dictionary(adj_list):\n",
    "    degree_dictionary = {}\n",
    "\n",
    "    # finding degrees\n",
    "    for Node in adj_list:\n",
    "        x = 0\n",
    "        for i in adj_list[Node]:\n",
    "            x += 1\n",
    "        degree_dictionary[Node] = x\n",
    "\n",
    "    # Sort Nodes by degree\n",
    "    Nodes = list(degree_dictionary.keys()) \n",
    "    n = len(Nodes) \n",
    "\n",
    "    # here we use Bubble sort for sorting Nodes by degree\n",
    "    for i in range(n):\n",
    "        for j in range(0, n-i-1):\n",
    "            if degree_dictionary[Nodes[j]] > degree_dictionary[Nodes[j+1]]:\n",
    "                Nodes[j], Nodes[j+1] = Nodes[j+1], Nodes[j]    # Swaping th Nodes\n",
    "\n",
    "    return degree_dictionary, Nodes\n",
    "\n",
    "\n",
    "adj_list = {\n",
    "    'A': ['B', 'C'],\n",
    "    'B': ['A', 'C', 'D'],\n",
    "    'C': ['A', 'B'],\n",
    "    'D': ['B']\n",
    "}\n",
    "\n",
    "# func call\n",
    "degree_dictionary, sorted_Nodes = get_degree_dictionary(adj_list)\n",
    "print(\"Degree of each Node: \", degree_dictionary)\n",
    "print(\"Nodes sorted by degree: \", sorted_Nodes)\n"
   ]
  },
  {
   "cell_type": "markdown",
   "id": "b6f860d9",
   "metadata": {},
   "source": [
    "Q2. Write a code to inter-convert the 3 graph representations we have learnt."
   ]
  },
  {
   "cell_type": "code",
   "execution_count": 2,
   "id": "7ac871ff",
   "metadata": {},
   "outputs": [
    {
     "name": "stdout",
     "output_type": "stream",
     "text": [
      "Adjacency Matrix to Edge List: [(0, 1), (0, 2), (1, 2), (1, 3), (3, 3)]\n",
      "List to Matrix: [[0, 1, 1, 0], [1, 0, 1, 1], [1, 1, 0, 0], [0, 1, 0, 0]]\n",
      "Edge List to Adjacency List: {0: [1, 2], 1: [0, 2, 3], 2: [0, 1], 3: [1, 3, 3]}\n"
     ]
    }
   ],
   "source": [
    "# Adjacency List to Matrix\n",
    "def list_to_matrix(adj_list):\n",
    "    Nodes = list(adj_list.keys())\n",
    "    size = len(Nodes)   \n",
    "    matrix = []\n",
    "    for i in range(size):\n",
    "        row = []\n",
    "        for j in range(size):\n",
    "            if Nodes[j] in adj_list[Nodes[i]]:\n",
    "                row.append(1)   # Here we are assuming that if there is edge between i and j, then the value is 1\n",
    "            else:\n",
    "                row.append(0)   # else the value is 0 \n",
    "        matrix.append(row)\n",
    "    return matrix\n",
    "\n",
    "# converting Matrix to Edge List\n",
    "def matrix_to_edges(matrix):\n",
    "    edges = []\n",
    "    size = len(matrix)\n",
    "    for i in range(size):\n",
    "        for j in range(i, size):\n",
    "            if matrix[i][j] == 1:   # if there is edge between i and j then add it to the list\n",
    "                edges.append((i, j))  \n",
    "    return edges\n",
    "\n",
    "# code for Edge List to Adjacency List\n",
    "def edges_to_list(edge_list, num_Nodes):\n",
    "    adj_list = {}\n",
    "    for i in range(num_Nodes):\n",
    "        adj_list[i] = [] \n",
    "    for u, v in edge_list:      # u, v are the Nodes of an edge\n",
    "        adj_list[u].append(v)\n",
    "        adj_list[v].append(u)\n",
    "    return adj_list\n",
    "\n",
    "\n",
    "adj_matrix = [\n",
    "    [0, 1, 1, 0],\n",
    "    [1, 0, 1, 1],\n",
    "    [1, 1, 0, 0],\n",
    "    [0, 1, 1, 1]\n",
    "]\n",
    "Nodes = ['A', 'B', 'C', 'D']\n",
    "\n",
    "converted_list = matrix_to_edges(adj_matrix)\n",
    "adj_list_from_matrix = {\n",
    "    0: [1, 2],\n",
    "    1: [0, 2, 3],\n",
    "    2: [0, 1],\n",
    "    3: [1]\n",
    "}\n",
    "converted_matrix = list_to_matrix(adj_list_from_matrix)\n",
    "converted_edge_list = edges_to_list(converted_list, len(adj_matrix))\n",
    "\n",
    "print(\"Adjacency Matrix to Edge List:\", converted_list)\n",
    "print(\"List to Matrix:\", converted_matrix)\n",
    "print(\"Edge List to Adjacency List:\", converted_edge_list)\n"
   ]
  },
  {
   "cell_type": "markdown",
   "id": "69bdd036",
   "metadata": {},
   "source": [
    "Q3. Given a graph and two vertices, check if they are adjacent."
   ]
  },
  {
   "cell_type": "code",
   "execution_count": 3,
   "id": "21eae1d1",
   "metadata": {},
   "outputs": [
    {
     "name": "stdout",
     "output_type": "stream",
     "text": [
      "Are A and D adjacent?: False\n"
     ]
    }
   ],
   "source": [
    "def are_adjacent(adj_list, u, v):\n",
    "    return v in adj_list[u]    # Checknig if v is in the adjacency list of u   \n",
    "\n",
    "print(\"Are A and D adjacent?:\", are_adjacent(adj_list, 'A', 'D'))\n"
   ]
  },
  {
   "cell_type": "markdown",
   "id": "0abc2290",
   "metadata": {},
   "source": [
    "Q4. Check if a graph is complete."
   ]
  },
  {
   "cell_type": "code",
   "execution_count": 4,
   "id": "1c975e7b",
   "metadata": {},
   "outputs": [
    {
     "name": "stdout",
     "output_type": "stream",
     "text": [
      "False\n"
     ]
    }
   ],
   "source": [
    "def complete(adj_list):\n",
    "    n = len(adj_list)\n",
    "    for Node in adj_list:\n",
    "        if len(adj_list[Node]) != n - 1:  # if a Node has less than n-1 edges then graph is not complete\n",
    "            return False\n",
    "    return True\n",
    "\n",
    "print(complete(adj_list))\n"
   ]
  },
  {
   "cell_type": "markdown",
   "id": "b2b3db24",
   "metadata": {},
   "source": [
    "Q5. Check if a graph is connected."
   ]
  },
  {
   "cell_type": "code",
   "execution_count": 5,
   "id": "a4dc34bc",
   "metadata": {},
   "outputs": [
    {
     "name": "stdout",
     "output_type": "stream",
     "text": [
      "True\n"
     ]
    }
   ],
   "source": [
    "# depth_first_search, this check if the graph is empty or not , if it is empty it returns an empty list , otherwise it performs a depth-first search on the graph and returns the list of visited nodes\n",
    "\n",
    "def depth_first_search(adj_list, Node, visited):\n",
    "    visited[Node] = True   # marking current Node as visited \n",
    "    for Adjacent in adj_list[Node]:\n",
    "        if not visited[Adjacent]:  \n",
    "            #  using recursion to visit all the nodes in the graph \n",
    "           depth_first_search(adj_list, Adjacent, visited)\n",
    "\n",
    "def connected(adj_list):\n",
    "\n",
    "    visited = {}\n",
    "    for Node in adj_list:\n",
    "        visited[Node] = False   # we assume that all the nodes are not visited initially \n",
    "    start_Node = list(adj_list.keys())[0]\n",
    "    depth_first_search(adj_list, start_Node, visited)   #\n",
    "    for Node in visited:\n",
    "        if not visited[Node]:   # if any node is not visited then the graph is not connected \n",
    "            return False\n",
    "    return True  # else the graph is connected\n",
    "\n",
    "\n",
    "print(connected(adj_list))\n"
   ]
  },
  {
   "cell_type": "markdown",
   "id": "8489f4c5",
   "metadata": {},
   "source": [
    "Q6. Given a graph and a list of vertices, check if it forms a walk, or a trail or a path or none of these."
   ]
  },
  {
   "cell_type": "code",
   "execution_count": 6,
   "id": "d20b6d59",
   "metadata": {},
   "outputs": [
    {
     "name": "stdout",
     "output_type": "stream",
     "text": [
      "Type of sequence ['A','B','C','A']: Trail\n",
      "Type of sequence ['A','B','C']: Path\n",
      "Type of sequence ['A','D']: Not a walk\n"
     ]
    }
   ],
   "source": [
    "def check_walk_type(adj_list, Node_list):\n",
    "    used_edges = []\n",
    "    visited_Nodes = []\n",
    "    trail = True   # Assume trail until we find a cycle \n",
    "    path = True # Let Assume path until we found cycle\n",
    "\n",
    "    for i in range(len(Node_list) - 1):\n",
    "        u = Node_list[i]\n",
    "        v = Node_list[i + 1]\n",
    "        if v not in adj_list[u]:\n",
    "            return \"Not a walk\"\n",
    "        if (u, v) in used_edges or (v, u) in used_edges:  # here i check for cycle if we find cycle then it is not a walk\n",
    "            trail = False\n",
    "        else:\n",
    "            used_edges.append((u, v))   # add edge to used edges list if it is not a cycle\n",
    "        if v in visited_Nodes:  # if we find a cycle then it is not a walk\n",
    "            path = False  # return False as it is not a walk\n",
    "        visited_Nodes.append(u)\n",
    "\n",
    "    if path:\n",
    "        return \"Path\"\n",
    "    elif trail:\n",
    "        return \"Trail\"\n",
    "    else:\n",
    "        return \"Walk\"\n",
    "\n",
    "# printing results\n",
    "x = ['A', 'B', 'C', 'A']\n",
    "print(\"Type of sequence ['A','B','C','A']:\", check_walk_type(adj_list, x))\n",
    "\n",
    "y = ['A', 'B', 'C']\n",
    "print(\"Type of sequence ['A','B','C']:\", check_walk_type(adj_list, y))\n",
    "\n",
    "z = ['A', 'D']\n",
    "print(\"Type of sequence ['A','D']:\", check_walk_type(adj_list, z))\n"
   ]
  },
  {
   "cell_type": "markdown",
   "id": "5d157ce4",
   "metadata": {},
   "source": [
    "Q7. Check if a given graph is a tree."
   ]
  },
  {
   "cell_type": "code",
   "execution_count": 7,
   "id": "a809a503",
   "metadata": {},
   "outputs": [
    {
     "name": "stdout",
     "output_type": "stream",
     "text": [
      "Is the graph a tree : False\n"
     ]
    }
   ],
   "source": [
    "# To know graph is tree or not we check for number of Nodes and edges difference is one or not\n",
    "def tree(adj_list):\n",
    "    if not connected(adj_list):  # if the graph is not connected, it's not a tree \n",
    "        return False\n",
    "    num_edges = 0\n",
    "    for Node in adj_list:\n",
    "        num_edges += len(adj_list[Node])\n",
    "    num_edges = num_edges // 2   # here we divide by 2 because each edge is counted twice\n",
    "    num_Nodes = len(adj_list)\n",
    "    return num_edges == num_Nodes - 1   # \n",
    "\n",
    "print(\"Is the graph a tree :\", tree(adj_list))\n"
   ]
  },
  {
   "cell_type": "markdown",
   "id": "b01e550a",
   "metadata": {},
   "source": [
    "Q8. Given a connected cyclic graph, find its spanning tree."
   ]
  },
  {
   "cell_type": "code",
   "execution_count": 8,
   "id": "234c1889",
   "metadata": {},
   "outputs": [
    {
     "name": "stdout",
     "output_type": "stream",
     "text": [
      "Spanning Tree of the graph: {'A': ['B'], 'B': ['A', 'C', 'D'], 'C': ['B'], 'D': ['B']}\n"
     ]
    }
   ],
   "source": [
    "def spanning_tree(adj_list):\n",
    "    visited = {}    # dictionary for track of visited nodes\n",
    "    tree = {} # to store spanning tree\n",
    "    for Node in adj_list:\n",
    "        visited[Node] = False   # all nodes are initially unvisited\n",
    "        tree[Node] = []   \n",
    "\n",
    "    def depth_first_search_spanning(u):\n",
    "        visited[u] = True   \n",
    "        for v in adj_list[u]:\n",
    "            if not visited[v]:\n",
    "                tree[u].append(v)\n",
    "                tree[v].append(u)\n",
    "                depth_first_search_spanning(v)\n",
    "\n",
    "    start = list(adj_list.keys())[0]\n",
    "    depth_first_search_spanning(start)\n",
    "    return tree\n",
    "spanning_tree = spanning_tree(adj_list)\n",
    "print(\"Spanning Tree of the graph:\", spanning_tree)\n"
   ]
  },
  {
   "cell_type": "markdown",
   "id": "35ca4b0d",
   "metadata": {},
   "source": [
    "9. Find Number of Leaf Nodes in a Tree\n"
   ]
  },
  {
   "cell_type": "code",
   "execution_count": 9,
   "id": "76c25409",
   "metadata": {},
   "outputs": [
    {
     "name": "stdout",
     "output_type": "stream",
     "text": [
      "Leaf nodes count : 2\n"
     ]
    }
   ],
   "source": [
    "def count_leaf_nodes(tree):\n",
    "    count = 0\n",
    "    for Node in tree:\n",
    "        if len(tree[Node]) == 1:   # if the Node has only one edge then it is a leaf node\n",
    "            count += 1   # increment the count of leaf nodes\n",
    "    return count\n",
    "\n",
    "# nake an adjacency list representation of the tree\n",
    "tree = {\n",
    "    'A': ['B', 'C'],\n",
    "    'B': ['A'],\n",
    "    'C': ['A', 'D'],\n",
    "    'D': ['C']\n",
    "}\n",
    "print(\"Leaf nodes count :\", count_leaf_nodes(tree))\n"
   ]
  },
  {
   "cell_type": "markdown",
   "id": "9193ae22",
   "metadata": {},
   "source": [
    "Q10. Check if Tree is Binary Tree\n",
    "\n"
   ]
  },
  {
   "cell_type": "code",
   "execution_count": null,
   "id": "d0121d95",
   "metadata": {},
   "outputs": [
    {
     "name": "stdout",
     "output_type": "stream",
     "text": [
      "Is the tree binary: True\n"
     ]
    }
   ],
   "source": [
    "def binary_tree(tree):\n",
    "    for Node in tree:\n",
    "        if len(tree[Node]) > 2:   # if a Node has more than 2 children its not a binary tree\n",
    "            return False\n",
    "    return True\n",
    "print(\"Is the tree binary:\", binary_tree(tree))\n"
   ]
  },
  {
   "cell_type": "markdown",
   "id": "a8a577c6",
   "metadata": {},
   "source": [
    "11. Find Height of a Tree (DFS)"
   ]
  },
  {
   "cell_type": "code",
   "execution_count": 11,
   "id": "0146c311",
   "metadata": {},
   "outputs": [
    {
     "name": "stdout",
     "output_type": "stream",
     "text": [
      "Height of the tree from root 'A': 3\n"
     ]
    }
   ],
   "source": [
    "def tree_height(tree, root):\n",
    "    def depth_first_search_height(node, parent):   # this func returns the height of tree \n",
    "        max_h = 0\n",
    "        for child in tree[node]:\n",
    "            if child != parent:\n",
    "                h = depth_first_search_height(child, node)\n",
    "                if h > max_h:\n",
    "                    max_h = h\n",
    "        return 1 + max_h\n",
    "\n",
    "    return depth_first_search_height(root, -1)   # here,  -1 is used as a dummy parent \n",
    "print(\"Height of the tree from root 'A':\", tree_height(tree, 'A'))\n"
   ]
  },
  {
   "cell_type": "markdown",
   "id": "1fe1bf4d",
   "metadata": {},
   "source": [
    "12.Given a tree, find its depth."
   ]
  },
  {
   "cell_type": "code",
   "execution_count": 12,
   "id": "df7786ed",
   "metadata": {},
   "outputs": [
    {
     "name": "stdout",
     "output_type": "stream",
     "text": [
      "Depth of node 'D' from root 'A': 2\n"
     ]
    }
   ],
   "source": [
    "def node_depth(tree, root, target):\n",
    "    def depth_first_search_depth(node, parent, depth):\n",
    "        if node == target:\n",
    "            return depth  # Return the depth of the target node\n",
    "        for child in tree[node]: # Iterating over the children of the current node\n",
    "            if child != parent:\n",
    "                result = depth_first_search_depth(child, node, depth + 1)\n",
    "                if result != -1:  # If the target node is found, return the depth\n",
    "                    return result\n",
    "        return -1\n",
    "\n",
    "    return depth_first_search_depth(root, -1, 0)\n",
    "# func call\n",
    "print(\"Depth of node 'D' from root 'A':\", node_depth(tree, 'A', 'D'))\n"
   ]
  }
 ],
 "metadata": {
  "kernelspec": {
   "display_name": "Python 3",
   "language": "python",
   "name": "python3"
  },
  "language_info": {
   "codemirror_mode": {
    "name": "ipython",
    "version": 3
   },
   "file_extension": ".py",
   "mimetype": "text/x-python",
   "name": "python",
   "nbconvert_exporter": "python",
   "pygments_lexer": "ipython3",
   "version": "3.12.4"
  }
 },
 "nbformat": 4,
 "nbformat_minor": 5
}
